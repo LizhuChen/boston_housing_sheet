{
  "nbformat": 4,
  "nbformat_minor": 0,
  "metadata": {
    "colab": {
      "provenance": [],
      "include_colab_link": true
    },
    "language_info": {
      "codemirror_mode": {
        "name": "ipython",
        "version": 3
      },
      "file_extension": ".py",
      "mimetype": "text/x-python",
      "name": "python",
      "nbconvert_exporter": "python",
      "pygments_lexer": "ipython3",
      "version": "3.6.5"
    },
    "kernelspec": {
      "display_name": "Python 3",
      "language": "python",
      "name": "python3"
    }
  },
  "cells": [
    {
      "cell_type": "markdown",
      "metadata": {
        "id": "view-in-github",
        "colab_type": "text"
      },
      "source": [
        "<a href=\"https://colab.research.google.com/github/LizhuChen/boston_housing_sheet/blob/main/boston_housing_sheet.ipynb\" target=\"_parent\"><img src=\"https://colab.research.google.com/assets/colab-badge.svg\" alt=\"Open In Colab\"/></a>"
      ]
    },
    {
      "cell_type": "markdown",
      "metadata": {
        "id": "gWhHkRXMobX0"
      },
      "source": [
        "## Model Evaluation & Validation\n",
        "## Project: Predicting Boston Housing Prices\n",
        "\n",
        "This is a revised veriosn of the project from Udacity Machine Learning Engineer Nanodegree. In this notebook, some template code has already been provided for you, and you will need to implement additional functionality to successfully complete this project. You will not need to modify the included code beyond what is requested. Sections that begin with **'Implementation'** in the header indicate that the following block of code will require additional functionality which you must provide. Instructions will be provided for each section and the specifics of the implementation are marked in the code block with a 'TODO' statement. Please be sure to read the instructions carefully!\n",
        "\n",
        "In addition to implementing code, there will be questions that you must answer which relate to the project and your implementation. Each section where you will answer a question is preceded by a **'Question X'** header. Carefully read each question and provide thorough answers in the following text boxes that begin with **'Answer:'**. Your project submission will be evaluated based on your answers to each of the questions and the implementation you provide.  \n",
        "\n",
        ">**Note:** Code and Markdown cells can be executed using the **Shift + Enter** keyboard shortcut. In addition, Markdown cells can be edited by typically double-clicking the cell to enter edit mode.\n",
        "\n",
        "Try to answer the following questions.  \n",
        "可以使用中文回答。"
      ]
    },
    {
      "cell_type": "markdown",
      "metadata": {
        "id": "MvOtJxkQfx3Z"
      },
      "source": [
        "This project requires **Python** and the following Python libraries installed:\n",
        "\n",
        "- [NumPy](http://www.numpy.org/)\n",
        "- [Pandas](http://pandas.pydata.org)\n",
        "- [matplotlib](http://matplotlib.org/)\n",
        "- [scikit-learn](http://scikit-learn.org/stable/) version: 0.18+\n",
        "\n",
        "You will also need to have software installed to run and execute a [Jupyter Notebook](https://jupyter.org/install)\n",
        "\n",
        "If you do not have Python installed yet, it is highly recommended that you install the [Anaconda](https://www.anaconda.com/distribution/) distribution of Python, which already has the above packages and more stuff included.\n",
        "\n",
        "Or, you can put this file on the [Google colab](https://colab.research.google.com/) environment. It's a free Jupyter notebook environment that requires no setup and runs entirely on the cloud."
      ]
    },
    {
      "cell_type": "markdown",
      "metadata": {
        "id": "acayhH_BobX1"
      },
      "source": [
        "## Getting Started\n",
        "In this project, you will evaluate the performance and predictive power of a model that has been trained and tested on data collected from homes in suburbs of Boston, Massachusetts. A model trained on this data that is seen as a *good fit* could then be used to make certain predictions about a home — in particular, its monetary value. This model would prove to be invaluable for someone like a real estate agent who could make use of such information on a daily basis.\n",
        "\n",
        "The dataset for this project is named as *housing.csv*, which originates from the [UCI Machine Learning Repository](https://archive.ics.uci.edu/ml/datasets/Housing). The Boston housing data was collected in 1978 and each of the 506 entries represent aggregated data about 14 features for homes from various suburbs in Boston, Massachusetts.  \n",
        "**Note:** The sci-kit learn module also provides this dataset. You can obtain it by invoking `sklearn.datasets.load_boston()`. However, **please do not use that dataset in this project because it's somewhat unorganized.**  \n",
        "For the purposes of this project, the following preprocessing steps have been made to the dataset:\n",
        "- 16 data points have an `'MEDV'` value of 50.0. These data points likely contain **missing or censored values** and have been removed.\n",
        "- 1 data point has an `'RM'` value of 8.78. This data point can be considered an **outlier** and has been removed.\n",
        "- The features `'RM'`, `'LSTAT'`, `'PTRATIO'`, and `'MEDV'` are essential. The remaining **non-relevant features** have been excluded.\n",
        "- The feature `'MEDV'` has been **multiplicatively scaled** to account for 35 years of market inflation.\n",
        "\n",
        "\n",
        "\n"
      ]
    },
    {
      "cell_type": "code",
      "metadata": {
        "id": "1OecaGuUqHnF",
        "outputId": "d4141a76-2b35-4a43-f18e-9bbd94394fae",
        "colab": {
          "base_uri": "https://localhost:8080/",
          "height": 34
        }
      },
      "source": [
        "# remember to run this code cell if you cannot see your google drive on the left slidebar\n",
        "from google.colab import drive\n",
        "drive.mount('/content/gdrive')"
      ],
      "execution_count": null,
      "outputs": [
        {
          "output_type": "stream",
          "text": [
            "Mounted at /content/gdrive\n"
          ],
          "name": "stdout"
        }
      ]
    },
    {
      "cell_type": "markdown",
      "metadata": {
        "id": "nAwjVl5DYp8a"
      },
      "source": [
        "Run the code cell below to load the Boston housing dataset, along with a few of the necessary Python libraries required for this project. You will know the dataset loaded successfully if the size of the dataset is reported printed out after this code block.  \n",
        "Note: If you run this notebook file locally, you can load *housing.csv* by simply putting this file and the csv file at the same directory."
      ]
    },
    {
      "cell_type": "code",
      "metadata": {
        "id": "-QvZYbeuobX3",
        "outputId": "3f780346-83fb-456f-96c9-573af365c7cd",
        "colab": {
          "base_uri": "https://localhost:8080/",
          "height": 34
        }
      },
      "source": [
        "# Import libraries necessary for this project\n",
        "import numpy as np\n",
        "import pandas as pd\n",
        "import matplotlib.pyplot as plt\n",
        "#from sklearn.metrics import r2_score\n",
        "\n",
        "# Load the Boston housing dataset\n",
        "# TODO: load the csv file \n",
        "data = pd.read_csv('/content/gdrive/My Drive/housing.csv')\n",
        "prices = data['MEDV']  # this is what we want to preict\n",
        "features = data.drop('MEDV', axis = 1)  # remove this feature because it is our target\n",
        "    \n",
        "# Success\n",
        "print(\"Boston housing dataset has {} data points with {} variables each.\".format(*data.shape))"
      ],
      "execution_count": null,
      "outputs": [
        {
          "output_type": "stream",
          "text": [
            "Boston housing dataset has 489 data points with 4 variables each.\n"
          ],
          "name": "stdout"
        }
      ]
    },
    {
      "cell_type": "markdown",
      "metadata": {
        "id": "SATIFBPEobX7"
      },
      "source": [
        "## Data Exploration\n",
        "In this first section of this project, you will make a cursory investigation about the Boston housing data and provide your observations. Familiarizing yourself with the data through an explorative process is a fundamental practice to help you better understand and justify your results.\n",
        "\n",
        "Since the main goal of this project is to construct a working model which has the capability of predicting the value of houses, we will need to separate the dataset into **features** and the **target variable**. The **features**, `'RM'`, `'LSTAT'`, and `'PTRATIO'`, give us quantitative information about each data point. The **target variable**, `'MEDV'`, will be the variable we seek to predict. These are stored in `features` and `prices`, respectively."
      ]
    },
    {
      "cell_type": "markdown",
      "metadata": {
        "id": "Deq9JgDJobX8"
      },
      "source": [
        "### Implementation: Calculate Statistics\n",
        "For your very first coding implementation, you will calculate descriptive statistics about the Boston housing prices. Since `numpy` has already been imported for you, use this library to perform the necessary calculations. These statistics will be extremely important later on to analyze various prediction results from the constructed model.\n",
        "\n",
        "In the code cell below, you will need to implement the following:\n",
        "- Calculate the minimum, maximum, mean, median, and standard deviation of `'MEDV'`, which is stored in `prices`.\n",
        "  - Store each calculation in their respective variable.\n",
        "\n",
        "**Hint**: Go to [NumPy's doc](https://docs.scipy.org/doc/numpy/reference/routines.statistics.html) to discover the usage of the functions you need."
      ]
    },
    {
      "cell_type": "code",
      "metadata": {
        "id": "bi_v4hZzobX8",
        "outputId": "65a00629-e620-41fa-a847-6debc3e295fa",
        "colab": {
          "base_uri": "https://localhost:8080/",
          "height": 136
        }
      },
      "source": [
        "# TODO: Minimum price of the data\n",
        "minimum_price = np.amin(prices)\n",
        "\n",
        "# TODO: Maximum price of the data\n",
        "maximum_price = np.amax(prices)\n",
        "\n",
        "# TODO: Mean price of the data\n",
        "mean_price = np.mean(prices)\n",
        "\n",
        "# TODO: Median price of the data\n",
        "median_price = np.median(prices)\n",
        "\n",
        "# TODO: Standard deviation of prices of the data\n",
        "std_price = np.std(prices)\n",
        "\n",
        "# Show the calculated statistics\n",
        "print(\"Statistics for Boston housing dataset:\\n\")\n",
        "print(\"Minimum price: ${}\".format(minimum_price)) \n",
        "print(\"Maximum price: ${}\".format(maximum_price))\n",
        "print(\"Mean price: ${}\".format(mean_price))\n",
        "print(\"Median price ${}\".format(median_price))\n",
        "print(\"Standard deviation of prices: ${}\".format(std_price))"
      ],
      "execution_count": null,
      "outputs": [
        {
          "output_type": "stream",
          "text": [
            "Statistics for Boston housing dataset:\n",
            "\n",
            "Minimum price: $105000.0\n",
            "Maximum price: $1024800.0\n",
            "Mean price: $454342.9447852761\n",
            "Median price $438900.0\n",
            "Standard deviation of prices: $165171.13154429477\n"
          ],
          "name": "stdout"
        }
      ]
    },
    {
      "cell_type": "markdown",
      "metadata": {
        "id": "s0lrET0EobX_"
      },
      "source": [
        "### Question 1 - Feature Observation\n",
        "As a reminder, we are using three features from the Boston housing dataset: `'RM'`, `'LSTAT'`, and `'PTRATIO'`. For each data point (neighborhood):\n",
        "- `'RM'` is the average number of rooms among homes in the neighborhood.是附近房屋中的平均房間數\n",
        "- `'LSTAT'` is the percentage of homeowners in the neighborhood considered \"lower class\" (working poor).是被認為是“低下階層”（工作貧困）的鄰里房主的百分比\n",
        "- `'PTRATIO'` is the ratio of students to teachers in primary and secondary schools in the neighborhood.是附近小學和中學學生與教師的比例\n",
        "\n",
        "You can run the code cell below to examine some samples.\n"
      ]
    },
    {
      "cell_type": "code",
      "metadata": {
        "id": "_NkmWGfUbhuG",
        "outputId": "d844bc39-d14d-453a-e750-0abd00d67bb7",
        "colab": {
          "base_uri": "https://localhost:8080/",
          "height": 204
        }
      },
      "source": [
        "# randomly pick up 5 samples\n",
        "indices = np.random.choice(data.shape[0], 5)\n",
        "data.iloc[indices]"
      ],
      "execution_count": null,
      "outputs": [
        {
          "output_type": "execute_result",
          "data": {
            "text/html": [
              "<div>\n",
              "<style scoped>\n",
              "    .dataframe tbody tr th:only-of-type {\n",
              "        vertical-align: middle;\n",
              "    }\n",
              "\n",
              "    .dataframe tbody tr th {\n",
              "        vertical-align: top;\n",
              "    }\n",
              "\n",
              "    .dataframe thead th {\n",
              "        text-align: right;\n",
              "    }\n",
              "</style>\n",
              "<table border=\"1\" class=\"dataframe\">\n",
              "  <thead>\n",
              "    <tr style=\"text-align: right;\">\n",
              "      <th></th>\n",
              "      <th>RM</th>\n",
              "      <th>LSTAT</th>\n",
              "      <th>PTRATIO</th>\n",
              "      <th>MEDV</th>\n",
              "    </tr>\n",
              "  </thead>\n",
              "  <tbody>\n",
              "    <tr>\n",
              "      <th>229</th>\n",
              "      <td>7.358</td>\n",
              "      <td>4.73</td>\n",
              "      <td>17.4</td>\n",
              "      <td>661500.0</td>\n",
              "    </tr>\n",
              "    <tr>\n",
              "      <th>443</th>\n",
              "      <td>6.701</td>\n",
              "      <td>16.42</td>\n",
              "      <td>20.2</td>\n",
              "      <td>344400.0</td>\n",
              "    </tr>\n",
              "    <tr>\n",
              "      <th>197</th>\n",
              "      <td>7.853</td>\n",
              "      <td>3.81</td>\n",
              "      <td>14.7</td>\n",
              "      <td>1018500.0</td>\n",
              "    </tr>\n",
              "    <tr>\n",
              "      <th>218</th>\n",
              "      <td>8.040</td>\n",
              "      <td>3.13</td>\n",
              "      <td>17.4</td>\n",
              "      <td>789600.0</td>\n",
              "    </tr>\n",
              "    <tr>\n",
              "      <th>125</th>\n",
              "      <td>5.986</td>\n",
              "      <td>14.81</td>\n",
              "      <td>19.1</td>\n",
              "      <td>449400.0</td>\n",
              "    </tr>\n",
              "  </tbody>\n",
              "</table>\n",
              "</div>"
            ],
            "text/plain": [
              "        RM  LSTAT  PTRATIO       MEDV\n",
              "229  7.358   4.73     17.4   661500.0\n",
              "443  6.701  16.42     20.2   344400.0\n",
              "197  7.853   3.81     14.7  1018500.0\n",
              "218  8.040   3.13     17.4   789600.0\n",
              "125  5.986  14.81     19.1   449400.0"
            ]
          },
          "metadata": {
            "tags": []
          },
          "execution_count": 46
        }
      ]
    },
    {
      "cell_type": "markdown",
      "metadata": {
        "id": "lMR7mT1Wbz6F"
      },
      "source": [
        "Using your intuition, for each of the three features above, do you think that an increase in the value of that feature would lead to an **increase** in the value of `'MEDV'` or a **decrease** in the value of `'MEDV'`? Justify your answer for each.\n",
        "\n",
        "**Hint:** This problem can phrased using examples like below.  \n",
        "* Would you expect a home that has an `'RM'` value(number of rooms) of 6 be worth more or less than a home that has an `'RM'` value of 7?\n",
        "* Would you expect a neighborhood that has an `'LSTAT'` value(percent of lower class workers) of 15 have home prices be worth more or less than a neighborhood that has an `'LSTAT'` value of 20?\n",
        "* Would you expect a neighborhood that has an `'PTRATIO'` value(ratio of students to teachers) of 10 have home prices be worth more or less than a neighborhood that has an `'PTRATIO'` value of 15?"
      ]
    },
    {
      "cell_type": "markdown",
      "metadata": {
        "id": "Caxq4foQobYA"
      },
      "source": [
        "* 當RM value較高時，會造成MEDV value提升，因為從隨機抓取的數據中當PTRATIO value相同、LSTAT value僅相差1且RM value分別為7.853和6.345時，明顯可以發現RM value較高者和較低者的MEDV value相差546000，RM value較高者擁有的MEDV value較高，並且可以發現RM value對MEDV value的影響相當大。而RM value代表是平均房間數，在其他條件相同的情況下，擁有較多的房間和擁有較少房間的房子相較來說更有價值，因此MEDV value會較高。\n",
        "* 當LSTAT value較高時，會造成MEDV value降低，因為從隨機抓取的數據中當PTRATIO value相同、RM value相差不多且LSTAT value分別為14.19和5.68時，明顯可以發現LSTAT value較高者和較低者的MEDV value相差48300，LSTAT value較低者擁有的MEDV value較高。而LSTAT value代表是附近鄰居為低下階層的百分比，在其他條件相同的情況下，若附近鄰居的生活條件較差，可能會因此影響到房屋價值，因此MEDV value會較低。\n",
        "* 當PTRATIO value較高時，會造成MEDV value提升，因為從隨機抓取的數據中當RM value相差僅0.01、LSTAT value僅相差0.1且PTRATIO value分別為16.9和19.6時，明顯可以發現PTRATIO value較高者和較低者的MEDV value相差21000，PTRATIO value較高者擁有的MEDV value較高。而PTRATI value代表是附近小學和中學學生與教師的比例，當比例越高則一個老師對應的學生數量越多，代表學區附近所居住的人越多，房子需求量就會越大，因此在其他條件相同的情況下，PTRATI value越高則會使該房子的價值越高，因此MEDV value會較高。"
      ]
    },
    {
      "cell_type": "markdown",
      "metadata": {
        "id": "TFdL8sx6obYB"
      },
      "source": [
        "----\n",
        "\n",
        "## Developing a Model\n",
        "In this second section of the project, you will develop the tools and techniques necessary for a model to make a prediction. Being able to make accurate evaluations of each model's performance through the use of these tools and techniques helps to greatly reinforce the confidence in your predictions."
      ]
    },
    {
      "cell_type": "markdown",
      "metadata": {
        "id": "flfCZlgoobYC"
      },
      "source": [
        "### Implementation: Define a Performance Metric\n",
        "It is difficult to measure the quality of a given model without quantifying its performance over training and testing. This is typically done using some type of performance metric, whether it is through calculating some type of error, the goodness of fit, or some other useful measurement. For this project, you will be calculating the [*coefficient of determination*](http://stattrek.com/statistics/dictionary.aspx?definition=coefficient_of_determination), R<sup>2</sup>, to quantify your model's performance. The coefficient of determination for a model is a useful statistic in regression analysis, as it often describes how \"good\" that model is at making predictions. \n",
        "\n",
        "The values for R<sup>2</sup> range from 0 to 1, which captures the percentage of squared correlation between the predicted and actual values of the **target variable**. A model with an R<sup>2</sup> of 0 is no better than a model that always predicts the *mean* of the target variable, whereas a model with an R<sup>2</sup> of 1 perfectly predicts the target variable. Any value between 0 and 1 indicates what percentage of the target variable, using this model, can be explained by the **features**. _A model can be given a negative R<sup>2</sup> as well, which indicates that the model is **arbitrarily worse** than one that always predicts the mean of the target variable._\n",
        "\n",
        "For the `performance_metric` function in the code cell below, you will need to implement the following:\n",
        "- Use `r2_score` from `sklearn.metrics` to perform a performance calculation between `y_true` and `y_predict`.\n",
        "- Assign the performance score to the `score` variable.\n",
        "\n",
        "Go to [Sci-kit Learn webpage](https://scikit-learn.org/stable/modules/generated/sklearn.metrics.r2_score.html) to see how to use the `r2_score` function.."
      ]
    },
    {
      "cell_type": "code",
      "metadata": {
        "id": "z6L3lgJNobYD"
      },
      "source": [
        "# TODO: Import 'r2_score' function from sklearn.metrics\n",
        "from sklearn.metrics import r2_score\n",
        "\n",
        "def performance_metric(y_true, y_predict):\n",
        "    \"\"\" Calculates and returns the performance score between \n",
        "        true and predicted values based on the metric chosen. \"\"\"\n",
        "    \n",
        "    # TODO: Calculate the performance score between 'y_true' and 'y_predict' using r2_score\n",
        "    score = r2_score(y_true, y_predict) \n",
        "\n",
        "    # Return the score\n",
        "    return score"
      ],
      "execution_count": null,
      "outputs": []
    },
    {
      "cell_type": "markdown",
      "metadata": {
        "id": "4YkGmZdIobYG"
      },
      "source": [
        "### Question 2 - Goodness of Fit\n",
        "Assume that a dataset contains five data points and a model made the following predictions for the target variable:\n",
        "\n",
        "| True Value | Prediction |\n",
        "| :-------------: | :--------: |\n",
        "| 3.0 | 2.5 |\n",
        "| -0.5 | 0.0 |\n",
        "| 2.0 | 2.1 |\n",
        "| 7.0 | 7.8 |\n",
        "| 4.2 | 5.3 |\n",
        "\n",
        "Run the code cell below to use the `performance_metric` function and calculate this model's coefficient of determination."
      ]
    },
    {
      "cell_type": "code",
      "metadata": {
        "id": "E7VxLxWaobYG",
        "outputId": "b33cfd05-37de-47a5-c449-fdc224112fd4",
        "colab": {
          "base_uri": "https://localhost:8080/",
          "height": 34
        }
      },
      "source": [
        "# Calculate the performance of this model\n",
        "y_true = [3, -0.5, 2, 7, 4.2]\n",
        "y_predict = [2.5, 0.0, 2.1, 7.8, 5.3]\n",
        "score = performance_metric(y_true, y_predict)\n",
        "print(\"Model has a coefficient of determination, R^2, of {:.3f}.\".format(score))"
      ],
      "execution_count": null,
      "outputs": [
        {
          "output_type": "stream",
          "text": [
            "Model has a coefficient of determination, R^2, of 0.923.\n"
          ],
          "name": "stdout"
        }
      ]
    },
    {
      "cell_type": "markdown",
      "metadata": {
        "id": "HdwFBH_lobYJ"
      },
      "source": [
        "* Would you consider this model to have successfully captured the variation of the target variable? \n",
        "* Why or why not?\n",
        "\n",
        "**Hint:**  The R2 score is the proportion of the variance in the dependent variable that is predictable from the independent variable. In other words:\n",
        "* R2 score of 0 means that the dependent variable cannot be predicted from the independent variable.R2得分為0表示無法從自變量預測因變量。\n",
        "* R2 score of 1 means the dependent variable can be predicted from the independent variable.R2得分為1意味著可以從自變量預測因變量。\n",
        "* R2 score between 0 and 1 indicates the extent to which the dependent variable is predictable. An R2分數介於0和1之間表示因變量可預測的程度\n",
        "* R2 score of 0.40 means that 40 percent of the variance in Y is predictable from X.R2分數為0.40意味著可以從X預測Y的方差的40％\n"
      ]
    },
    {
      "cell_type": "markdown",
      "metadata": {
        "id": "0ff9I9LCobYK"
      },
      "source": [
        "可以，R^2若越高則代表可預成功測結果越好，從獲得R^2為0.923可得知，可成功預測的程度為92.3%。"
      ]
    },
    {
      "cell_type": "markdown",
      "metadata": {
        "id": "zsI77tLjobYL"
      },
      "source": [
        "### Implementation: Shuffle and Split Data\n",
        "Your next implementation requires that you take the Boston housing dataset and split the data into training and testing subsets. Typically, the data is also shuffled into a random order when creating the training and testing subsets to remove any bias in the ordering of the dataset.\n",
        "\n",
        "For the code cell below, you will need to implement the following:\n",
        "- Use `train_test_split` from `sklearn.model_selection` to shuffle and split the `features` and `prices` data into training and testing sets.\n",
        "  - Split the data into 80% training and 20% testing.\n",
        "  - Set the `random_state` for `train_test_split` to a value of your choice. This ensures results are consistent.\n",
        "- Assign the train and testing splits to `X_train`, `X_test`, `y_train`, and `y_test`."
      ]
    },
    {
      "cell_type": "code",
      "metadata": {
        "id": "g4F95sowobYM",
        "outputId": "c7933310-2c1e-4385-e875-e1ec5d233bc3",
        "colab": {
          "base_uri": "https://localhost:8080/",
          "height": 34
        }
      },
      "source": [
        "# TODO: Import 'train_test_split'\n",
        "from sklearn.model_selection import train_test_split\n",
        "# TODO:  Split the data into training and testing subsets\n",
        "X_train, X_test, y_train, y_test = train_test_split(features, prices, test_size=0.2, random_state= 1 )\n",
        "\n",
        "# Success\n",
        "if X_train is not None:\n",
        "  print(\"Training and testing split was successful.\")\n",
        "else:\n",
        "  print(\"Something wrong. Data are not splitted.\")\n",
        "# Print out the shape of training and testing data"
      ],
      "execution_count": null,
      "outputs": [
        {
          "output_type": "stream",
          "text": [
            "Training and testing split was successful.\n"
          ],
          "name": "stdout"
        }
      ]
    },
    {
      "cell_type": "markdown",
      "metadata": {
        "id": "IrjoNazEobYO"
      },
      "source": [
        "### Question 3 - Training and Testing\n",
        "\n",
        "* What is the benefit to splitting a dataset into some ratio of training and testing subsets for a learning algorithm?\n",
        "\n",
        "**Hint:** Think about how overfitting or underfitting is contingent upon how splits on data is done."
      ]
    },
    {
      "cell_type": "markdown",
      "metadata": {
        "id": "DVP1vHaNobYP"
      },
      "source": [
        "將資料集分為training和testing subsets，使我們可以使用training subsets的數據來訓練模型，接著用testing subsets來測試模型，並使模型去計算誤差，用testing subsets上的誤差作為最終模型在應對實際預測中的泛化誤差，只需讓我們訓練好的模型在testing subsets上的誤差減小即可，使模型的預測能力提高。overfitting是指過於緊密或精確地訓練資料集，以致於在預測其他資料時會造成有很大的誤差，儘管模型對訓練資料有很好的執行效果，但是對於預測新資料無法執行得很好。underfitting是指相較於資料而言，模型參數過少或者模型結構過於簡單，以至於無法捕捉到資料中的規律的現象。為了防止模型過度訓練而太過於了解資料集中的樣本特徵，造成overfitting的情況發生，通常會將資料依比例分割，但必須確保資料均勻分配，否則可能會剛好抽取到極值作為testing subsets，會造成誤差很大，通常會經過交叉驗證，但若training subsets的比例過低可能會造成underfitting的情況發生，因此其分配比例需謹慎抉擇。"
      ]
    },
    {
      "cell_type": "markdown",
      "metadata": {
        "id": "-1UOuoUhobYR"
      },
      "source": [
        "### Learning Curves\n",
        "The following code cell produces four graphs for a [decision tree model](https://scikit-learn.org/stable/modules/generated/sklearn.tree.DecisionTreeRegressor.html) with different maximum depths. Each graph visualizes the learning curves of the model for both training and testing as the size of the training set is increased. Note that the shaded region of a learning curve denotes the uncertainty of that curve (measured as the standard deviation). The model is scored on both the training and testing sets using R<sup>2</sup>, the coefficient of determination.  \n",
        "\n",
        "Run the code cell below and use these graphs to answer the following question. You don't have to modify anything in this code cell.  \n",
        "\n",
        "**Note:** If you do not know what a decision tree model is, please refer [here](https://en.wikipedia.org/wiki/Decision_tree)."
      ]
    },
    {
      "cell_type": "code",
      "metadata": {
        "id": "9RQZKJfLobYR"
      },
      "source": [
        "def learn_model(X, y):\n",
        "    \"\"\" Calculates the performance of several models with varying sizes of training data.\n",
        "        The learning and testing scores for each model are then plotted. \"\"\"\n",
        "    \n",
        "    sizes = np.arange(10, len(X_train), 50)\n",
        "    \n",
        "    # Generate the training set sizes increasing by 50\n",
        "    train_sizes = np.rint(np.arange(10, len(X_train)*0.8, 50)).astype(int)\n",
        "\n",
        "    # Create the figure window\n",
        "    fig = plt.figure(figsize=(10,7))\n",
        "\n",
        "    # Create three different models based on max_depth\n",
        "    for k, depth in enumerate([1, 3, 6, 10]):\n",
        "        \n",
        "        from sklearn.tree import DecisionTreeRegressor\n",
        "        # Create a Decision tree regressor at max_depth = depth\n",
        "        regressor = DecisionTreeRegressor(max_depth = depth)\n",
        "        \n",
        "        # Calculate the training and testing scores\n",
        "        from sklearn.model_selection import learning_curve\n",
        "        sizes, train_scores, test_scores = learning_curve(regressor, X, y, \\\n",
        "            cv = 5, train_sizes = train_sizes, scoring = 'r2')\n",
        "        \n",
        "        # Find the mean and standard deviation for smoothing\n",
        "        train_std = np.std(train_scores, axis = 1)\n",
        "        train_mean = np.mean(train_scores, axis = 1)\n",
        "        test_std = np.std(test_scores, axis = 1)\n",
        "        test_mean = np.mean(test_scores, axis = 1)\n",
        "\n",
        "        # Subplot the learning curve \n",
        "        ax = fig.add_subplot(2, 2, k+1)\n",
        "        ax.plot(sizes, train_mean, 'o-', color = 'r', label = 'Training Score')\n",
        "        ax.plot(sizes, test_mean, 'o-', color = 'g', label = 'Testing Score')\n",
        "        ax.fill_between(sizes, train_mean - train_std, \\\n",
        "            train_mean + train_std, alpha = 0.15, color = 'r')\n",
        "        ax.fill_between(sizes, test_mean - test_std, \\\n",
        "            test_mean + test_std, alpha = 0.15, color = 'g')\n",
        "        \n",
        "        # Labels\n",
        "        ax.set_title('max_depth = %s'%(depth))\n",
        "        ax.set_xlabel('Number of Training Points')\n",
        "        ax.set_ylabel('Score')\n",
        "        ax.set_xlim([0, X.shape[0]*0.8])\n",
        "        ax.set_ylim([-0.05, 1.05])\n",
        "    \n",
        "    # Visual aesthetics\n",
        "    ax.legend(bbox_to_anchor=(1.05, 2.05), loc='lower left', borderaxespad = 0.)\n",
        "    plt.suptitle('Decision Tree Regressor Learning Performances', fontsize = 16, y = 1.03)\n",
        "    plt.tight_layout()\n",
        "    plt.show()"
      ],
      "execution_count": null,
      "outputs": []
    },
    {
      "cell_type": "code",
      "metadata": {
        "scrolled": false,
        "id": "i87j4kz-obYU",
        "outputId": "b6b2c63e-b7d9-48f5-a4be-5044b071559a",
        "colab": {
          "base_uri": "https://localhost:8080/",
          "height": 539
        }
      },
      "source": [
        "# Produce learning curves for varying training set sizes and maximum depths\n",
        "learn_model(X_train, y_train)"
      ],
      "execution_count": null,
      "outputs": [
        {
          "output_type": "display_data",
          "data": {
            "image/png": "[encoded data removed]",
            "text/plain": [
              "<Figure size 720x504 with 4 Axes>"
            ]
          },
          "metadata": {
            "tags": [],
            "needs_background": "light"
          }
        }
      ]
    },
    {
      "cell_type": "markdown",
      "metadata": {
        "id": "1sY1M67GobYX"
      },
      "source": [
        "### Question 4 - Learning the Data\n",
        "* Choose one of the graphs above and state the maximum depth for the model. \n",
        "* What happens to the score of the training curve as more training points are added? What about the testing curve? \n",
        "* Would having more training points benefit the model? \n",
        "\n",
        "**Hint:** Are the learning curves converging to particular scores? Generally speaking, the more data you have, the better. But if your training and testing curves are converging with a score above your benchmark threshold, would this be necessary?\n",
        "Think about the pros and cons of adding more training points based on if the training and testing curves are converging."
      ]
    },
    {
      "cell_type": "markdown",
      "metadata": {
        "id": "0a4Aa_LKobYY"
      },
      "source": [
        "圖一中最大深度為1，當Traning point小於50時，可以發現Testing score大幅上漲，當Traning point大於50後，Testing score和Traning score差距很小皆趨近於0.45左右，兩者的score皆很低，可能發生underfitting的情況，並且兩者從Traning point大於100後，學習曲線皆趨近於平緩並且收斂，因此即使增加更多的Traning point，也不會使學習曲線提升。 \n",
        "圖四中最大深度為10，其中Traning score一直都保持平緩並且接近於1，當Traning point小於50時，Testing score大幅上漲，Traning point大於50後，成長幅度明顯減緩，並且有平緩的趨勢，最終收斂於0.7左右，其Testing score和Traning score相差較大，可能發生overfitting的情況，與深度為1的Testing score相比，明顯較高。\n"
      ]
    },
    {
      "cell_type": "markdown",
      "metadata": {
        "id": "aU3zwGYdobYY"
      },
      "source": [
        "### Complexity Curves\n",
        "The following code cell produces a graph for a decision tree model that has been trained and validated on the training data using different maximum depths. The graph produces two complexity curves — one for training and one for validation. Similar to the **learning curves**, the shaded regions of both the complexity curves denote the uncertainty in those curves, and the model is scored on both the training and validation sets using the `performance_metric` function.  \n",
        "\n",
        "** Run the code cell below and use this graph to answer the following two questions Q5 and Q6. **"
      ]
    },
    {
      "cell_type": "code",
      "metadata": {
        "id": "4XoJc0dDobYZ"
      },
      "source": [
        "def model_complexity(X, y):\n",
        "    \"\"\" Calculates the performance of the model as model complexity increases.\n",
        "        The learning and testing errors rates are then plotted. \"\"\"\n",
        "\n",
        "    # Vary the max_depth parameter from 1 to 10\n",
        "    max_depth = np.arange(1,11)\n",
        "    \n",
        "    from sklearn.tree import DecisionTreeRegressor\n",
        "\n",
        "    # Create 10 cross-validation sets for training and testing\n",
        "    # Calculate the training and testing scores\n",
        "    from sklearn.model_selection import validation_curve\n",
        "    train_scores, test_scores = validation_curve(DecisionTreeRegressor(), X, y, \\\n",
        "        param_name = \"max_depth\", param_range = max_depth, cv = 10, scoring = 'r2')\n",
        "\n",
        "    # Find the mean and standard deviation for smoothing\n",
        "    train_mean = np.mean(train_scores, axis=1)\n",
        "    train_std = np.std(train_scores, axis=1)\n",
        "    test_mean = np.mean(test_scores, axis=1)\n",
        "    test_std = np.std(test_scores, axis=1)\n",
        "\n",
        "    # Plot the validation curve\n",
        "    plt.figure(figsize=(7, 5))\n",
        "    plt.title('Decision Tree Regressor Complexity Performance')\n",
        "    plt.plot(max_depth, train_mean, 'o-', color = 'r', label = 'Training Score')\n",
        "    plt.plot(max_depth, test_mean, 'o-', color = 'g', label = 'Validation Score')\n",
        "    plt.fill_between(max_depth, train_mean - train_std, \\\n",
        "        train_mean + train_std, alpha = 0.15, color = 'r')\n",
        "    plt.fill_between(max_depth, test_mean - test_std, \\\n",
        "        test_mean + test_std, alpha = 0.15, color = 'g')\n",
        "    \n",
        "    # Visual aesthetics\n",
        "    plt.legend(loc = 'lower right')\n",
        "    plt.xlabel('Maximum Depth')\n",
        "    plt.ylabel('Score')\n",
        "    plt.ylim([-0.05,1.05])\n",
        "    plt.xticks(np.arange(0, 11, step=1))\n",
        "    plt.show()"
      ],
      "execution_count": null,
      "outputs": []
    },
    {
      "cell_type": "markdown",
      "metadata": {
        "id": "l79z033ngkZn"
      },
      "source": [
        "Now we call this function to plot the curve."
      ]
    },
    {
      "cell_type": "code",
      "metadata": {
        "id": "aokqxPu5obYc",
        "outputId": "ad382082-b564-45ad-9399-1b456650cc31",
        "colab": {
          "base_uri": "https://localhost:8080/",
          "height": 350
        }
      },
      "source": [
        "model_complexity(X_train, y_train)"
      ],
      "execution_count": null,
      "outputs": [
        {
          "output_type": "display_data",
          "data": {
            "image/png": "[encoded data removed]",
            "text/plain": [
              "<Figure size 504x360 with 1 Axes>"
            ]
          },
          "metadata": {
            "tags": [],
            "needs_background": "light"
          }
        }
      ]
    },
    {
      "cell_type": "markdown",
      "metadata": {
        "id": "hnj3aNBaobYe"
      },
      "source": [
        "### Question 5 - Bias-Variance Tradeoff\n",
        "* When the model is trained with a maximum depth of 1, does the model suffer from high bias or from high variance? \n",
        "* How about when the model is trained with a maximum depth of 10? What visual cues in the graph justify your conclusions?\n",
        "\n",
        "**Hint:** High bias is a sign of underfitting(model is not complex enough to pick up the nuances in the data) and high variance is a sign of overfitting(model is by-hearting the data and cannot generalize well). Think about which model(depth 1 or 10) aligns with which part of the tradeoff."
      ]
    },
    {
      "cell_type": "markdown",
      "metadata": {
        "id": "rRuY8-8kobYf"
      },
      "source": [
        "\n",
        "* 當最大深度為1時，training score接近0.45而validation score接近0.3，兩者得到的score都相當低，有可能是因為模型過於簡單，造成發生underfitting的情況，模型suffer from high bias，需提高模型複雜度。\n",
        "* 當最大深度為10時，training score接近0.98而validation score接近0.7，兩者得到的score有點差距，可能是因為模型過度學習，造成在測試data時誤差很大，發生overfitting的情況，模型suffer from high variance，可能需降低模型的複雜度。"
      ]
    },
    {
      "cell_type": "markdown",
      "metadata": {
        "id": "l6ztex20obYf"
      },
      "source": [
        "### Question 6 - Best-Guess Optimal Model\n",
        "* Which maximum depth do you think results in a model that best generalizes to unseen data? \n",
        "* What intuition lead you to this answer?\n",
        "\n",
        "** Hint: ** Look at the graph above Question 5 and see where the validation scores lie for the various depths that have been assigned to the model. Does it get better with increased depth? At what point do we get our best validation score without overcomplicating our model? And remember, Occams Razor states \"Among competing hypotheses, the one with the fewest assumptions should be selected.\""
      ]
    },
    {
      "cell_type": "markdown",
      "metadata": {
        "id": "yNdTagtZobYg"
      },
      "source": [
        "在最大深度為4時，因為從產生的圖表可以明顯發現在深度為4時，validation score接近於0.8，為所有深度中最高的，由此可知預測程度較其他深度得到的結果好。當最大深度太小時可能會有模型過於簡單，而使underfitting的情況發生，當最大深度太大時可能會有過度學習模型過於複雜，而使overfitting的情況發生，因此最大深度為4是最適當的選擇。"
      ]
    },
    {
      "cell_type": "markdown",
      "metadata": {
        "id": "lb-30gnxobYh"
      },
      "source": [
        "-----\n",
        "\n",
        "## Evaluating Model Performance\n",
        "In this final section of the project, you will construct a model and make a prediction on the client's feature set using an optimized model from `fit_model`."
      ]
    },
    {
      "cell_type": "markdown",
      "metadata": {
        "id": "skAtQsYHobYh"
      },
      "source": [
        "### Question 7 - Cross-Validation\n",
        "\n",
        "* What is the k-fold cross-validation training technique? \n",
        "\n",
        "* What benefit does this technique provide for grid search when optimizing a model?\n",
        "\n",
        "**Hint:** When explaining the k-fold cross validation technique, be sure to touch upon what 'k' is, how the dataset is split into different parts for training and testing and the number of times it is run based on the 'k' value.\n",
        "\n",
        "When thinking about how k-fold cross validation helps grid search, think about the main drawbacks of grid search which are hinged upon **using a particular subset of data for training or testing** and how k-fold cv could help alleviate that. You can refer to the [docs](http://scikit-learn.org/stable/modules/cross_validation.html#cross-validation) for your answer."
      ]
    },
    {
      "cell_type": "markdown",
      "metadata": {
        "id": "a7NMjt0tobYi"
      },
      "source": [
        "交叉驗證是一種評估統計分析、機器學習算法對獨立於訓練數據的數據集的泛化能力，能夠避免overfitting問題，並且training subsets的比例要足夠多，training和testing subsets中的數據需均勻。其k-fold cross-validation的做法為將資料隨機平均分段k個subsets，選擇其中一個作為testing subsets，其餘的k-1個subsets作為training subsets。k-CV交叉驗證重複k次，使每個subsets都被作為testing subsets，並將k次的平均交叉驗證識別率作為結果。grid search為窮舉搜索，通過循環遍歷，嘗試每一種可能性，選擇表現最好的作為最終的結果，其缺點為計算量很大並且其最終的表現好壞與初始數據的劃分結果有很大的關係，因此使用k-fold cross-validation的優點為均勻的分配資料集，並且所有的樣本都被作為了training和testing subsets，每個樣本都被驗證一次，可以有效的避免overfitting or underfitting的情況發生,最後得到的結果也較具有說服力。"
      ]
    },
    {
      "cell_type": "markdown",
      "metadata": {
        "id": "aQz7LH6CobYj"
      },
      "source": [
        "### Implementation: Fitting a Model\n",
        "Your final implementation requires that you bring everything together and train two models: the **linear regression** and **decision tree regression**. Choose a `max_depth` for the decision tree regressor according to your observations."
      ]
    },
    {
      "cell_type": "code",
      "metadata": {
        "id": "jDzOeJd2obYk",
        "outputId": "de726c76-2810-4848-b48f-ea5b69815656",
        "colab": {
          "base_uri": "https://localhost:8080/",
          "height": 119
        }
      },
      "source": [
        "# TODO: Import 'LinearRegression'\n",
        "from sklearn.linear_model import LinearRegression\n",
        "from sklearn.tree import DecisionTreeRegressor    \n",
        "# TODO: Create your regressor objects\n",
        "linear_regressor = LinearRegression()\n",
        "dt_regressor = DecisionTreeRegressor(max_depth=4)\n",
        "\n",
        "# TODO: fit your model\n",
        "linear_regressor.fit(X_train,y_train)\n",
        "dt_regressor.fit(X_train,y_train)\n",
        "    "
      ],
      "execution_count": null,
      "outputs": [
        {
          "output_type": "execute_result",
          "data": {
            "text/plain": [
              "DecisionTreeRegressor(ccp_alpha=0.0, criterion='mse', max_depth=4,\n",
              "                      max_features=None, max_leaf_nodes=None,\n",
              "                      min_impurity_decrease=0.0, min_impurity_split=None,\n",
              "                      min_samples_leaf=1, min_samples_split=2,\n",
              "                      min_weight_fraction_leaf=0.0, presort='deprecated',\n",
              "                      random_state=None, splitter='best')"
            ]
          },
          "metadata": {
            "tags": []
          },
          "execution_count": 54
        }
      ]
    },
    {
      "cell_type": "markdown",
      "metadata": {
        "id": "cM-3gcY0obYm"
      },
      "source": [
        "### Making Predictions\n",
        "### Implementation: Evaluate your model\n",
        "Once a model has been trained on a given set of data, it can now be used to make predictions on new sets of input data.\n",
        "Use the splitted test data to evaluate your model "
      ]
    },
    {
      "cell_type": "code",
      "metadata": {
        "scrolled": true,
        "id": "hWntAePKobYn",
        "outputId": "55a5a03c-684a-4ad5-812f-651db9634d78",
        "colab": {
          "base_uri": "https://localhost:8080/",
          "height": 51
        }
      },
      "source": [
        "# TODO: use X_test to make predictions\n",
        "lr_y_predict = linear_regressor.predict(X_test)\n",
        "dt_y_predict = dt_regressor.predict(X_test)\n",
        "\n",
        "#calculate the score using the performance_metric you wrote above\n",
        "\n",
        "score_lr = performance_metric(y_test,lr_y_predict)\n",
        "score_dt = performance_metric(y_test,dt_y_predict)\n",
        "\n",
        "print(\"Linear regression model has a coefficient of determination, R^2, of {:.3f}.\".format(score_lr))\n",
        "print(\"Decision tree regression model has a coefficient of determination, R^2, of {:.3f}.\".format(score_dt))"
      ],
      "execution_count": null,
      "outputs": [
        {
          "output_type": "stream",
          "text": [
            "Linear regression model has a coefficient of determination, R^2, of 0.704.\n",
            "Decision tree regression model has a coefficient of determination, R^2, of 0.778.\n"
          ],
          "name": "stdout"
        }
      ]
    },
    {
      "cell_type": "markdown",
      "metadata": {
        "id": "iHupbKVeobYp"
      },
      "source": [
        "**Hint:** The answer comes from the output of the code snipped above.\n",
        "\n",
        "* Linear regression model has a coefficient of determination, R^2, of 0.704.\n",
        "* Decision tree regression model has a coefficient of determination, R^2, of 0.778."
      ]
    },
    {
      "cell_type": "markdown",
      "metadata": {
        "id": "elxS9xBMobYq"
      },
      "source": [
        "### Question 8 - Predicting Selling Prices\n",
        "### Implementation: use one of the above models to predict prices\n",
        "Imagine that you were a real estate agent in the Boston area looking to use this model to help price homes owned by your clients that they wish to sell. You have collected the following information from three of your clients:\n",
        "\n",
        "| Feature | Client 1 | Client 2 | Client 3 |\n",
        "| :---: | :---: | :---: | :---: |\n",
        "| Total number of rooms in home | 5 rooms | 4 rooms | 8 rooms |\n",
        "| Neighborhood poverty level (as %) | 17% | 32% | 3% |\n",
        "| Student-teacher ratio of nearby schools | 15-to-1 | 22-to-1 | 12-to-1 |\n",
        "\n",
        "* What price would you recommend each client sell his/her home at? \n",
        "* Do these prices seem reasonable given the values for the respective features? \n",
        "\n",
        "**Hint:** Use the statistics you calculated in the **Data Exploration** section to help justify your response.  Of the three clients, client 3 has has the biggest house, in the best public school neighborhood with the lowest poverty level; while client 2 has the smallest house, in a neighborhood with a relatively high poverty rate and not the best public schools.\n",
        "\n",
        "Run the code block below to have your optimized model make predictions for each client's home."
      ]
    },
    {
      "cell_type": "code",
      "metadata": {
        "id": "nBN9qEyuobYr",
        "outputId": "fa26b697-f557-49db-c006-c14cdef44acc",
        "colab": {
          "base_uri": "https://localhost:8080/",
          "height": 68
        }
      },
      "source": [
        "# Produce a matrix for client data\n",
        "client_data = [[5, 17, 15], # Client 1\n",
        "         [4, 32, 22], # Client 2\n",
        "         [8, 3, 12]]  # Client 3\n",
        "\n",
        "# Apply either one model to show predictions\n",
        "for i, price in enumerate(dt_regressor.predict(client_data)):\n",
        "    print(\"Predicted selling price for Client {}'s home: ${:,.2f}\".format(i+1, price))"
      ],
      "execution_count": null,
      "outputs": [
        {
          "output_type": "stream",
          "text": [
            "Predicted selling price for Client 1's home: $411,417.39\n",
            "Predicted selling price for Client 2's home: $230,828.57\n",
            "Predicted selling price for Client 3's home: $937,230.00\n"
          ],
          "name": "stdout"
        }
      ]
    },
    {
      "cell_type": "markdown",
      "metadata": {
        "id": "Pfi_cOJOobYv"
      },
      "source": [
        "Predicted selling price for Client 1's home: $411,417.39\n",
        "\n",
        "Predicted selling price for Client 2's home: $230,828.57\n",
        "\n",
        "Predicted selling price for Client 3's home: $937,230.00\n",
        "\n",
        "Client3擁有最多的房間數量以及最低的Neighborhood poverty level，代表附近的生活條件都不錯，雖然學生與老師的比例較低，但有可能實施小班制，一個老師對應的學生越少，使平均投注在學生身上的教育越多，所以預測的房價最高是非常合理的。而Client2擁有最少的房間數量，且Neighborhood poverty level最高，由此可知附近居住的人生活條件都沒有很好，雖然學生與老師的比例較高，但可能因為附近居住的人較貧困，因此需時師大班制，一個老師需教育較多的學生，所以預測的房價最低是合理的。而Client1的各項條件介於Client2和Client3之間，因此預測的房價介於Client2和Client3是合理的。\n",
        "\n",
        "\n",
        "\n"
      ]
    },
    {
      "cell_type": "markdown",
      "metadata": {
        "id": "UjY3OnPLobYx"
      },
      "source": [
        "### Implementation: cross validation\n",
        "\n",
        "For the code cell below, you will need to implement the cross validation technique to obtain the predictions of **all data**. Use the `cross_val_predict` method in `sklearn.model_selection` to accomplish this. You can get more information from [*here*](http://scikit-learn.org/stable/modules/generated/sklearn.model_selection.cross_val_predict.html). Plot a figure which shows the relation between the true price and the predicted price for all data. You have to show the results of both models you applied above. "
      ]
    },
    {
      "cell_type": "code",
      "metadata": {
        "id": "23Cn2kUFobYz",
        "outputId": "4d8ae414-9c61-4675-dc75-d821f35fdeaa",
        "colab": {
          "base_uri": "https://localhost:8080/",
          "height": 404
        }
      },
      "source": [
        "# TODO: Use cross validation function to get the predictions of all data\n",
        "from sklearn.model_selection import cross_val_predict\n",
        "\n",
        "pred_linear_regressor = cross_val_predict(linear_regressor,features,prices,cv=10)\n",
        "pred_dt_regressor = cross_val_predict(dt_regressor,features,prices,cv=10)\n",
        "\n",
        "# plot a figure of true price vs. prediction for both models\n",
        "fig, ax = plt.subplots(1,2, figsize=(10,6))\n",
        "ax[0].set_title(\"linear regression\")\n",
        "ax[0].scatter(prices, pred_linear_regressor, edgecolors=(0, 0, 0))\n",
        "ax[0].plot([prices.min(), prices.max()], [prices.min(), prices.max()], 'r--', lw=3)\n",
        "ax[0].set_ylim([0, pred_linear_regressor.max()])\n",
        "ax[0].set_xlabel('true prices')\n",
        "ax[0].set_ylabel('Predicted')\n",
        "ax[1].set_title(\"decision tree regressor\")\n",
        "ax[1].scatter(prices, pred_dt_regressor, edgecolors=(0, 0, 0))\n",
        "ax[1].plot([prices.min(), prices.max()], [prices.min(), prices.max()], 'r--', lw=3)\n",
        "ax[1].set_ylim([0, pred_dt_regressor.max()])\n",
        "ax[1].set_xlabel('true prices')\n",
        "ax[1].set_ylabel('Predicted')\n",
        "plt.show()"
      ],
      "execution_count": null,
      "outputs": [
        {
          "output_type": "display_data",
          "data": {
            "image/png": "[encoded data removed]",
            "text/plain": [
              "<Figure size 720x432 with 2 Axes>"
            ]
          },
          "metadata": {
            "tags": [],
            "needs_background": "light"
          }
        }
      ]
    },
    {
      "cell_type": "markdown",
      "metadata": {
        "id": "aoQQylhNobY1"
      },
      "source": [
        "### Question 9 - Applicability\n",
        "\n",
        "* In a few sentences, discuss whether the constructed model should or should not be used in a real-world setting.  \n",
        "\n",
        "**Hint:** Try to split your data several times and see the performance. Some questions to answering:\n",
        "- Which model you preferred? Why?\n",
        "- Are the features present in the data sufficient to describe a home? Do you think factors like quality of apppliances in the home, square feet of the plot area, presence of pool or not etc should factor in?\n",
        "- Is the model robust enough to make consistent predictions?\n",
        "- Is it fair to judge the price of an individual home based on the characteristics of the entire neighborhood?"
      ]
    },
    {
      "cell_type": "markdown",
      "metadata": {
        "id": "hLRgpcn1obY2"
      },
      "source": [
        "- 選擇decision tree regression model,因為有訓練速度和預測速度較快，且善於獲取資料集中的非線性關係、處理資料集中出現的異常值以及在資料集中找到最重要的特徵的優點，最重要的是可以處理不相關的特徵，在預測房價上由於會有各種不相關的特徵，因此選擇使用decision tree regression比使用linear regression好。\n",
        "- 不，我認為不僅僅是房間數量，房子大小也是很重要的特徵，若房子大小相同，儘管是房間數量較多，仍然會有房間很小的問題，不一定會真的吸引人購買。我認為也可以加入附近大眾交通工具的比例，若房子周遭的交通工具較多，則代表交通很便利，附近也可能較繁榮，因此可以提高房屋價值。另外我認為房屋設備機能，例如游泳池、健身房、停車位、採光、隔音等等，都可以作為參考的特徵。\n",
        "- 是，採用不同訓練數據和測試數據進行訓練的模型，在相同特徵條件的client經過模型所預測出的prices都相差不大，代表可以穩定的預測結果。\n",
        "- 不公平，因為影響price的條件有很多，不能單單以週遭為特徵決定price，有可能該棟房子是新蓋的擁有很豐富和優良的設備，並且選擇的地點正處於規劃狀態，而週遭可能因為太早開發，相較於其他地方的機能老舊，還需要較久的時間才會進行都更，擁有很大的發展空間，因此需參考更多其他方面的特徵來判斷price才公平。"
      ]
    },
    {
      "cell_type": "markdown",
      "metadata": {
        "id": "p3pu0V2fjYvJ"
      },
      "source": [
        "At last, convert this ipynb file to html and submit your html file.\n",
        "You can get more information about how to convert the ipynb file to html file from [here](https://torbjornzetterlund.com/how-to-save-a-google-colab-notebook-as-html/)."
      ]
    }
  ]
}